{
 "cells": [
  {
   "cell_type": "code",
   "execution_count": 1,
   "id": "ff6d6679-c174-4572-8d48-361eb1c165ec",
   "metadata": {},
   "outputs": [
    {
     "name": "stdout",
     "output_type": "stream",
     "text": [
      "My Bitcoin Assets Are: 123 Bitcoins!\n"
     ]
    }
   ],
   "source": [
    "#3 Excercise\n",
    "\n",
    "def find_my_bitcoin(politicians_bitcoin_assets, my_bitcoin_wallet_assets, democrats, republicans):\n",
    "    while democrats <= republicans:\n",
    "        centrists = (democrats + republicans) // 2\n",
    "        possible_assets = politicians_bitcoin_assets[centrists]\n",
    "        if my_bitcoin_wallet_assets == possible_assets:\n",
    "            return possible_assets\n",
    "        elif my_bitcoin_wallet_assets < possible_assets:\n",
    "            republicans = centrists - 1\n",
    "        else:\n",
    "            democrats = centrists + 1\n",
    "    return -1\n",
    "\n",
    "politicians_bitcoin_assets = [2, 5, 6, 12, 45, 47, 98, 123, 1000]\n",
    "my_bitcoin_wallet_assets = 123\n",
    "\n",
    "encrypted_wallet = find_my_bitcoin(politicians_bitcoin_assets, my_bitcoin_wallet_assets, 0, len(politicians_bitcoin_assets) - 1)\n",
    "if encrypted_wallet != -1:\n",
    "    print(f'My Bitcoin Assets Are: {encrypted_wallet} Bitcoins!')\n",
    "else:\n",
    "    print(f'I Could Not Find My Bitcoin Assets')\n"
   ]
  },
  {
   "cell_type": "code",
   "execution_count": 2,
   "id": "bd61048c-34d8-4ee9-8cac-d704aebe2fda",
   "metadata": {},
   "outputs": [
    {
     "name": "stdout",
     "output_type": "stream",
     "text": [
      "{'in': 1, 'computing': 1, 'a': 5, 'hash': 4, 'table': 2, 'map': 2, 'is': 1, 'data': 2, 'structure': 2, 'which': 2, 'implements': 1, 'an': 3, 'associative': 1, 'array': 2, 'abstract': 1, 'type': 1, 'that': 1, 'can': 2, 'keys': 1, 'to': 2, 'values': 1, 'uses': 1, 'function': 1, 'compute': 1, 'index': 1, 'into': 1, 'of': 1, 'buckets': 1, 'or': 1, 'slots': 1, 'from': 1, 'the': 1, 'desired': 1, 'value': 1, 'be': 1, 'found': 1}\n"
     ]
    }
   ],
   "source": [
    "#2 Excercise\n",
    "\n",
    "def words_of_distinction(ink):\n",
    "    terminology_techno_list = ink.lower().split()\n",
    "    countenance_permeation = {}\n",
    "\n",
    "    for locution in terminology_techno_list:\n",
    "        locution = locution.strip('.,')\n",
    "        if locution in countenance_permeation:\n",
    "            countenance_permeation[locution] += 1\n",
    "        else:\n",
    "            countenance_permeation[locution] = 1\n",
    "\n",
    "    return countenance_permeation\n",
    "\n",
    "heavenly_pizza = 'In computing, a hash table hash map is a data structure which implements an associative array abstract data type, a structure that can map keys to values. A hash table uses a hash function to compute an index into an array of buckets or slots from which the desired value can be found'\n",
    "\n",
    "immaculate_conception = words_of_distinction(heavenly_pizza)\n",
    "print(immaculate_conception)\n"
   ]
  },
  {
   "cell_type": "code",
   "execution_count": 11,
   "id": "ce7db4e7-e33c-46cd-81ef-bb4e822da0b9",
   "metadata": {},
   "outputs": [
    {
     "name": "stdout",
     "output_type": "stream",
     "text": [
      "['.', 'ecnetnes', 'a', 'si', 'siht']\n"
     ]
    }
   ],
   "source": [
    "#1 Excercise\n",
    "\n",
    "Gods_Words = ['this', 'is', 'a', 'sentence', '.']\n",
    "\n",
    "genesis, revelation = 0, len(Gods_Words) - 1\n",
    "while genesis < revelation:\n",
    "    Gods_Words[genesis], Gods_Words[revelation] = Gods_Words[revelation], Gods_Words[genesis]\n",
    "    Gods_Words[genesis] = Gods_Words[genesis][::-1]\n",
    "    Gods_Words[revelation] = Gods_Words[revelation][::-1]\n",
    "    genesis += 1\n",
    "    revelation -= 1\n",
    "if len(Gods_Words) % 2 != 0:\n",
    "    Gods_Words[genesis] = Gods_Words[genesis][::-1]\n",
    "print(Gods_Words)\n"
   ]
  },
  {
   "cell_type": "code",
   "execution_count": null,
   "id": "fbac0c3f-9e1c-4fc4-8cb3-2d6681d15563",
   "metadata": {},
   "outputs": [],
   "source": []
  }
 ],
 "metadata": {
  "kernelspec": {
   "display_name": "Python 3 (ipykernel)",
   "language": "python",
   "name": "python3"
  },
  "language_info": {
   "codemirror_mode": {
    "name": "ipython",
    "version": 3
   },
   "file_extension": ".py",
   "mimetype": "text/x-python",
   "name": "python",
   "nbconvert_exporter": "python",
   "pygments_lexer": "ipython3",
   "version": "3.12.1"
  }
 },
 "nbformat": 4,
 "nbformat_minor": 5
}
